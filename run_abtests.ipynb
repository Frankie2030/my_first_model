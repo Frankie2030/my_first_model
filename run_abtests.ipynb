{
 "cells": [
  {
   "cell_type": "code",
   "execution_count": 18,
   "metadata": {},
   "outputs": [
    {
     "name": "stdout",
     "output_type": "stream",
     "text": [
      "Channels:\n",
      " - defaults\n",
      " - conda-forge\n",
      "Platform: osx-arm64\n",
      "Collecting package metadata (repodata.json): done\n",
      "Solving environment: done\n",
      "\n",
      "# All requested packages already installed.\n",
      "\n",
      "\n",
      "Note: you may need to restart the kernel to use updated packages.\n"
     ]
    }
   ],
   "source": [
    "%conda install requests"
   ]
  },
  {
   "cell_type": "code",
   "execution_count": 19,
   "metadata": {},
   "outputs": [],
   "source": [
    "import json # will be needed for saving preprocessing details\n",
    "import numpy as np # for data manipulation\n",
    "import pandas as pd # for data manipulation\n",
    "from sklearn.model_selection import train_test_split # will be used for data split\n",
    "import requests"
   ]
  },
  {
   "cell_type": "code",
   "execution_count": 20,
   "metadata": {},
   "outputs": [],
   "source": [
    "# load dataset\n",
    "df = pd.read_csv('https://raw.githubusercontent.com/pplonski/datasets-for-start/master/adult/data.csv', skipinitialspace=True)\n",
    "x_cols = [c for c in df.columns if c != 'income']\n",
    "# set input matrix and target column\n",
    "X = df[x_cols]\n",
    "y = df['income']\n",
    "# show first rows of data\n",
    "df.head()\n",
    "\n",
    "X_train, X_test, y_train, y_test = train_test_split(X, y, test_size = 0.3, random_state=1234)"
   ]
  },
  {
   "cell_type": "code",
   "execution_count": 21,
   "metadata": {},
   "outputs": [
    {
     "name": "stdout",
     "output_type": "stream",
     "text": [
      "{'feedback': '<=50K'}\n",
      "{'feedback': '>50K'}\n",
      "{'feedback': '<=50K'}\n",
      "{'feedback': '>50K'}\n",
      "{'feedback': '<=50K'}\n",
      "{'feedback': '<=50K'}\n",
      "{'feedback': '<=50K'}\n",
      "{'feedback': '<=50K'}\n",
      "{'feedback': '<=50K'}\n",
      "{'feedback': '>50K'}\n",
      "{'feedback': '>50K'}\n",
      "{'feedback': '<=50K'}\n",
      "{'feedback': '>50K'}\n",
      "{'feedback': '<=50K'}\n",
      "{'feedback': '>50K'}\n",
      "{'feedback': '<=50K'}\n",
      "{'feedback': '<=50K'}\n",
      "{'feedback': '<=50K'}\n",
      "{'feedback': '<=50K'}\n",
      "{'feedback': '<=50K'}\n",
      "{'feedback': '<=50K'}\n",
      "{'feedback': '<=50K'}\n",
      "{'feedback': '<=50K'}\n",
      "{'feedback': '<=50K'}\n",
      "{'feedback': '<=50K'}\n",
      "{'feedback': '<=50K'}\n",
      "{'feedback': '<=50K'}\n",
      "{'feedback': '<=50K'}\n",
      "{'feedback': '<=50K'}\n",
      "{'feedback': '<=50K'}\n",
      "{'feedback': '<=50K'}\n",
      "{'feedback': '<=50K'}\n",
      "{'feedback': '<=50K'}\n",
      "{'feedback': '<=50K'}\n",
      "{'feedback': '<=50K'}\n",
      "{'feedback': '<=50K'}\n",
      "{'feedback': '<=50K'}\n",
      "{'feedback': '<=50K'}\n",
      "{'feedback': '<=50K'}\n",
      "{'feedback': '<=50K'}\n",
      "{'feedback': '<=50K'}\n",
      "{'feedback': '<=50K'}\n",
      "{'feedback': '<=50K'}\n",
      "{'feedback': '<=50K'}\n",
      "{'feedback': '<=50K'}\n",
      "{'feedback': '<=50K'}\n",
      "{'feedback': '<=50K'}\n",
      "{'feedback': '<=50K'}\n",
      "{'feedback': '>50K'}\n",
      "{'feedback': '<=50K'}\n",
      "{'feedback': '>50K'}\n",
      "{'feedback': '<=50K'}\n",
      "{'feedback': '<=50K'}\n",
      "{'feedback': '<=50K'}\n",
      "{'feedback': '<=50K'}\n",
      "{'feedback': '<=50K'}\n",
      "{'feedback': '<=50K'}\n",
      "{'feedback': '<=50K'}\n",
      "{'feedback': '<=50K'}\n",
      "{'feedback': '>50K'}\n",
      "{'feedback': '>50K'}\n",
      "{'feedback': '>50K'}\n",
      "{'feedback': '>50K'}\n",
      "{'feedback': '<=50K'}\n",
      "{'feedback': '<=50K'}\n",
      "{'feedback': '<=50K'}\n",
      "{'feedback': '>50K'}\n",
      "{'feedback': '<=50K'}\n",
      "{'feedback': '>50K'}\n",
      "{'feedback': '<=50K'}\n",
      "{'feedback': '>50K'}\n",
      "{'feedback': '<=50K'}\n",
      "{'feedback': '<=50K'}\n",
      "{'feedback': '>50K'}\n",
      "{'feedback': '<=50K'}\n",
      "{'feedback': '<=50K'}\n",
      "{'feedback': '>50K'}\n",
      "{'feedback': '<=50K'}\n",
      "{'feedback': '>50K'}\n",
      "{'feedback': '<=50K'}\n",
      "{'feedback': '>50K'}\n",
      "{'feedback': '<=50K'}\n",
      "{'feedback': '<=50K'}\n",
      "{'feedback': '<=50K'}\n",
      "{'feedback': '>50K'}\n",
      "{'feedback': '<=50K'}\n",
      "{'feedback': '>50K'}\n",
      "{'feedback': '<=50K'}\n",
      "{'feedback': '>50K'}\n",
      "{'feedback': '>50K'}\n",
      "{'feedback': '<=50K'}\n",
      "{'feedback': '<=50K'}\n",
      "{'feedback': '>50K'}\n",
      "{'feedback': '>50K'}\n",
      "{'feedback': '<=50K'}\n",
      "{'feedback': '<=50K'}\n",
      "{'feedback': '<=50K'}\n",
      "{'feedback': '<=50K'}\n",
      "{'feedback': '>50K'}\n",
      "{'feedback': '<=50K'}\n"
     ]
    }
   ],
   "source": [
    "for i in range(100):\n",
    "    input_data = dict(X_test.iloc[i])\n",
    "    target = y_test.iloc[i]\n",
    "    r = requests.post(\"http://127.0.0.1:8000/api/v1/classifier/predict?status=ab_testing\", input_data)\n",
    "    response = r.json()\n",
    "    # provide feedback\n",
    "    feedback_data = {\"feedback\": str(target)}  # `target` should contain either '>=50K' or '<50K'\n",
    "    print(feedback_data)\n",
    "    requests.put(f\"http://127.0.0.1:8000/api/v1/mlrequests/{response['request_id']}\", json=feedback_data)"
   ]
  }
 ],
 "metadata": {
  "kernelspec": {
   "display_name": "Python 3",
   "language": "python",
   "name": "python3"
  },
  "language_info": {
   "codemirror_mode": {
    "name": "ipython",
    "version": 3
   },
   "file_extension": ".py",
   "mimetype": "text/x-python",
   "name": "python",
   "nbconvert_exporter": "python",
   "pygments_lexer": "ipython3",
   "version": "3.12.5"
  }
 },
 "nbformat": 4,
 "nbformat_minor": 2
}
